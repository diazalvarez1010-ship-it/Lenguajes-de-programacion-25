{
  "nbformat": 4,
  "nbformat_minor": 0,
  "metadata": {
    "colab": {
      "provenance": []
    },
    "kernelspec": {
      "name": "python3",
      "display_name": "Python 3"
    },
    "language_info": {
      "name": "python"
    }
  },
  "cells": [
    {
      "cell_type": "code",
      "execution_count": null,
      "metadata": {
        "id": "hbXJTDdj7VYu"
      },
      "outputs": [],
      "source": []
    },
    {
      "cell_type": "markdown",
      "source": [
        "# Valor Presente Neto (VPN)\n",
        "\n",
        "El **Valor Presente Neto (VPN)** es una herramienta financiera que permite medir la **rentabilidad de un proyecto o inversión**.  \n",
        "Parte de la idea de que el dinero disponible en el presente tiene mayor valor que la misma cantidad en el futuro, ya que puede generar rendimientos.  \n",
        "El VPN se obtiene calculando la diferencia entre el **valor actual de los flujos de caja futuros** y la **inversión inicial**.  \n",
        "\n",
        "## Fórmula del Valor Presente Neto (VPN)\n",
        "La fórmula del VPN se expresa de la siguiente manera:\n",
        "\n",
        "\\[\n",
        "$$\n",
        "VPN = \\sum_{t=0}^{n} \\frac{C_t}{(1+r)^t} - C_0\n",
        "$$\n",
        "\n",
        "\\]\n",
        "\n",
        "Donde:\n",
        "- \\(C_t\\) es el flujo de caja en el tiempo \\(t\\).\n",
        "- \\(r\\) es la tasa de descuento.\n",
        "- \\(n\\) es el número total de periodos.\n",
        "- \\(C_0\\) es la inversión inicial.\n",
        "\n",
        "## Interpretación\n",
        "\n",
        "- Si \\(VPN > 0\\), la inversión es rentable.\n",
        "- Si \\(VPN < 0\\), la inversión no es rentable.\n",
        "- Si \\(VPN = 0\\), la inversión no genera ni pérdidas ni ganancias.\n",
        "\n",
        "\n",
        "\n",
        "## Enlace útil  \n",
        "\n",
        "Para obtener más información sobre el Valor Presente Neto, puedes consultar el siguiente [Link](https://www.gerencie.com/valor-presente-neto.html)\n",
        "\n",
        "# Descripción del Proyecto\n",
        "\n",
        "La empresa está considerando un proyecto con las siguientes características:\n",
        "Supongamos que la empresa está considerando un proyecto con una inversión inicial de $10,000 y espera recibir flujos de caja de 3000 en cada uno de los próximos tres años. La tasa de descuento es del 5%."
      ],
      "metadata": {
        "id": "KnfrVAeLGYF9"
      }
    },
    {
      "cell_type": "code",
      "source": [
        "inversion_inicial = 10000\n",
        "flujo_ano_1 = 3000\n",
        "flujo_ano_2 = 3000\n",
        "flujo_ano_3 = 3000\n",
        "tasa_descuento = 0.05\n"
      ],
      "metadata": {
        "id": "DCyOoxZFUqlS"
      },
      "execution_count": 1,
      "outputs": []
    },
    {
      "cell_type": "markdown",
      "source": [
        "##Calculo del VPN"
      ],
      "metadata": {
        "id": "1Laq1A-vVgX9"
      }
    },
    {
      "cell_type": "code",
      "source": [
        "vpn = (flujo_ano_1 / (1 + tasa_descuento)**1) + \\\n",
        "      (flujo_ano_2 / (1 + tasa_descuento)**2) + \\\n",
        "      (flujo_ano_3 / (1 + tasa_descuento)**3) - inversion_inicial\n",
        "\n",
        "print(\"El Valor Presente Neto (VPN) del proyecto es:\", round(vpn, 2))"
      ],
      "metadata": {
        "colab": {
          "base_uri": "https://localhost:8080/"
        },
        "id": "WE68LwrPVGv4",
        "outputId": "350c1dfc-f7e5-4512-c547-aa0315219ec6"
      },
      "execution_count": 3,
      "outputs": [
        {
          "output_type": "stream",
          "name": "stdout",
          "text": [
            "El Valor Presente Neto (VPN) del proyecto es: -1830.26\n"
          ]
        }
      ]
    },
    {
      "cell_type": "markdown",
      "source": [
        "##Interpretacion"
      ],
      "metadata": {
        "id": "C68ThAhRYZio"
      }
    },
    {
      "cell_type": "code",
      "source": [
        "if vpn > 0:\n",
        "    print(\"El proyecto es viable, ya que el VPN es positivo.\")\n",
        "elif vpn < 0:\n",
        "    print(\"El proyecto no es viable, ya que el VPN es negativo.\")\n",
        "else:\n",
        "    print(\"El proyecto es indiferente, ya que el VPN es igual a 0.\")"
      ],
      "metadata": {
        "colab": {
          "base_uri": "https://localhost:8080/"
        },
        "id": "EQO5ORXcYfoX",
        "outputId": "9c01ba3e-56f0-4d38-8de7-f74976390afe"
      },
      "execution_count": 5,
      "outputs": [
        {
          "output_type": "stream",
          "name": "stdout",
          "text": [
            "El proyecto no es viable, ya que el VPN es negativo.\n"
          ]
        }
      ]
    }
  ]
}